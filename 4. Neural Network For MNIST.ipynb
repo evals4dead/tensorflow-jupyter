{
 "cells": [
  {
   "cell_type": "code",
   "execution_count": 1,
   "metadata": {},
   "outputs": [
    {
     "name": "stdout",
     "output_type": "stream",
     "text": [
      "WARNING:tensorflow:From <ipython-input-1-e43754822fa0>:3: read_data_sets (from tensorflow.contrib.learn.python.learn.datasets.mnist) is deprecated and will be removed in a future version.\n",
      "Instructions for updating:\n",
      "Please use alternatives such as official/mnist/dataset.py from tensorflow/models.\n",
      "WARNING:tensorflow:From /anaconda3/lib/python3.6/site-packages/tensorflow/contrib/learn/python/learn/datasets/mnist.py:260: maybe_download (from tensorflow.contrib.learn.python.learn.datasets.base) is deprecated and will be removed in a future version.\n",
      "Instructions for updating:\n",
      "Please write your own downloading logic.\n",
      "WARNING:tensorflow:From /anaconda3/lib/python3.6/site-packages/tensorflow/contrib/learn/python/learn/datasets/base.py:252: _internal_retry.<locals>.wrap.<locals>.wrapped_fn (from tensorflow.contrib.learn.python.learn.datasets.base) is deprecated and will be removed in a future version.\n",
      "Instructions for updating:\n",
      "Please use urllib or similar directly.\n",
      "Successfully downloaded train-images-idx3-ubyte.gz 9912422 bytes.\n",
      "WARNING:tensorflow:From /anaconda3/lib/python3.6/site-packages/tensorflow/contrib/learn/python/learn/datasets/mnist.py:262: extract_images (from tensorflow.contrib.learn.python.learn.datasets.mnist) is deprecated and will be removed in a future version.\n",
      "Instructions for updating:\n",
      "Please use tf.data to implement this functionality.\n",
      "Extracting ./mnist/data/train-images-idx3-ubyte.gz\n",
      "Successfully downloaded train-labels-idx1-ubyte.gz 28881 bytes.\n",
      "WARNING:tensorflow:From /anaconda3/lib/python3.6/site-packages/tensorflow/contrib/learn/python/learn/datasets/mnist.py:267: extract_labels (from tensorflow.contrib.learn.python.learn.datasets.mnist) is deprecated and will be removed in a future version.\n",
      "Instructions for updating:\n",
      "Please use tf.data to implement this functionality.\n",
      "Extracting ./mnist/data/train-labels-idx1-ubyte.gz\n",
      "WARNING:tensorflow:From /anaconda3/lib/python3.6/site-packages/tensorflow/contrib/learn/python/learn/datasets/mnist.py:110: dense_to_one_hot (from tensorflow.contrib.learn.python.learn.datasets.mnist) is deprecated and will be removed in a future version.\n",
      "Instructions for updating:\n",
      "Please use tf.one_hot on tensors.\n",
      "Successfully downloaded t10k-images-idx3-ubyte.gz 1648877 bytes.\n",
      "Extracting ./mnist/data/t10k-images-idx3-ubyte.gz\n",
      "Successfully downloaded t10k-labels-idx1-ubyte.gz 4542 bytes.\n",
      "Extracting ./mnist/data/t10k-labels-idx1-ubyte.gz\n",
      "WARNING:tensorflow:From /anaconda3/lib/python3.6/site-packages/tensorflow/contrib/learn/python/learn/datasets/mnist.py:290: DataSet.__init__ (from tensorflow.contrib.learn.python.learn.datasets.mnist) is deprecated and will be removed in a future version.\n",
      "Instructions for updating:\n",
      "Please use alternatives such as official/mnist/dataset.py from tensorflow/models.\n"
     ]
    }
   ],
   "source": [
    "import tensorflow as tf\n",
    "from tensorflow.examples.tutorials.mnist import input_data\n",
    "mnist = input_data.read_data_sets('./mnist/data', one_hot=True)"
   ]
  },
  {
   "cell_type": "code",
   "execution_count": 66,
   "metadata": {},
   "outputs": [],
   "source": [
    "X = tf.placeholder(tf.float32, [None, 28 * 28])\n",
    "Y = tf.placeholder(tf.float32, [None, 10])"
   ]
  },
  {
   "cell_type": "code",
   "execution_count": 67,
   "metadata": {},
   "outputs": [],
   "source": [
    "keep_prob = tf.placeholder(tf.float32)\n",
    "is_training = tf.placeholder(tf.bool)\n",
    "\n",
    "W1 = tf.Variable(tf.random_normal([28 * 28, 256], stddev = 0.01))\n",
    "L1 = tf.nn.relu(tf.matmul(X, W1))\n",
    "L1 = tf.nn.dropout(L1, keep_prob)\n",
    "L1 = tf.layers.batch_normalization(L1, training=is_training)\n",
    "\n",
    "W2 = tf.Variable(tf.random_normal([256, 256], stddev = 0.01))\n",
    "L2 = tf.nn.relu(tf.matmul(L1, W2))\n",
    "L2 = tf.nn.dropout(L2, keep_prob)\n",
    "L2 = tf.layers.batch_normalization(L2, training=is_training)\n",
    "\n",
    "W3 = tf.Variable(tf.random_normal([256, 10], stddev = 0.01))\n",
    "model = tf.matmul(L2, W3)"
   ]
  },
  {
   "cell_type": "code",
   "execution_count": 68,
   "metadata": {},
   "outputs": [],
   "source": [
    "cost = tf.reduce_mean(tf.nn.softmax_cross_entropy_with_logits_v2(labels=Y, logits=model))\n",
    "optimizer = tf.train.AdamOptimizer(0.001).minimize(cost)"
   ]
  },
  {
   "cell_type": "code",
   "execution_count": 69,
   "metadata": {},
   "outputs": [],
   "source": [
    "init = tf.global_variables_initializer()\n",
    "sess = tf.Session()\n",
    "sess.run(init)"
   ]
  },
  {
   "cell_type": "code",
   "execution_count": 70,
   "metadata": {},
   "outputs": [],
   "source": [
    "batch_size = 100"
   ]
  },
  {
   "cell_type": "code",
   "execution_count": 71,
   "metadata": {},
   "outputs": [],
   "source": [
    "total_batch = int(mnist.train.num_examples / batch_size)"
   ]
  },
  {
   "cell_type": "code",
   "execution_count": 72,
   "metadata": {},
   "outputs": [
    {
     "data": {
      "text/plain": [
       "550"
      ]
     },
     "execution_count": 72,
     "metadata": {},
     "output_type": "execute_result"
    }
   ],
   "source": [
    "total_batch"
   ]
  },
  {
   "cell_type": "code",
   "execution_count": 73,
   "metadata": {
    "scrolled": true
   },
   "outputs": [
    {
     "name": "stdout",
     "output_type": "stream",
     "text": [
      "Epoch: 1 of Total Epoch: 15 Avg. cost = 0.093\n",
      "Epoch: 1 of Total Epoch: 15 Avg. cost = 0.133\n",
      "Epoch: 1 of Total Epoch: 15 Avg. cost = 0.167\n",
      "Epoch: 1 of Total Epoch: 15 Avg. cost = 0.198\n",
      "Epoch: 1 of Total Epoch: 15 Avg. cost = 0.228\n",
      "Epoch: 2 of Total Epoch: 15 Avg. cost = 0.027\n",
      "Epoch: 2 of Total Epoch: 15 Avg. cost = 0.050\n",
      "Epoch: 2 of Total Epoch: 15 Avg. cost = 0.071\n",
      "Epoch: 2 of Total Epoch: 15 Avg. cost = 0.090\n",
      "Epoch: 2 of Total Epoch: 15 Avg. cost = 0.110\n",
      "Epoch: 3 of Total Epoch: 15 Avg. cost = 0.021\n",
      "Epoch: 3 of Total Epoch: 15 Avg. cost = 0.041\n",
      "Epoch: 3 of Total Epoch: 15 Avg. cost = 0.056\n",
      "Epoch: 3 of Total Epoch: 15 Avg. cost = 0.071\n",
      "Epoch: 3 of Total Epoch: 15 Avg. cost = 0.088\n",
      "Epoch: 4 of Total Epoch: 15 Avg. cost = 0.018\n",
      "Epoch: 4 of Total Epoch: 15 Avg. cost = 0.033\n",
      "Epoch: 4 of Total Epoch: 15 Avg. cost = 0.046\n",
      "Epoch: 4 of Total Epoch: 15 Avg. cost = 0.061\n",
      "Epoch: 4 of Total Epoch: 15 Avg. cost = 0.074\n",
      "Epoch: 5 of Total Epoch: 15 Avg. cost = 0.015\n",
      "Epoch: 5 of Total Epoch: 15 Avg. cost = 0.028\n",
      "Epoch: 5 of Total Epoch: 15 Avg. cost = 0.040\n",
      "Epoch: 5 of Total Epoch: 15 Avg. cost = 0.052\n",
      "Epoch: 5 of Total Epoch: 15 Avg. cost = 0.064\n",
      "Epoch: 6 of Total Epoch: 15 Avg. cost = 0.012\n",
      "Epoch: 6 of Total Epoch: 15 Avg. cost = 0.026\n",
      "Epoch: 6 of Total Epoch: 15 Avg. cost = 0.036\n",
      "Epoch: 6 of Total Epoch: 15 Avg. cost = 0.048\n",
      "Epoch: 6 of Total Epoch: 15 Avg. cost = 0.060\n",
      "Epoch: 7 of Total Epoch: 15 Avg. cost = 0.011\n",
      "Epoch: 7 of Total Epoch: 15 Avg. cost = 0.022\n",
      "Epoch: 7 of Total Epoch: 15 Avg. cost = 0.031\n",
      "Epoch: 7 of Total Epoch: 15 Avg. cost = 0.041\n",
      "Epoch: 7 of Total Epoch: 15 Avg. cost = 0.051\n",
      "Epoch: 8 of Total Epoch: 15 Avg. cost = 0.011\n",
      "Epoch: 8 of Total Epoch: 15 Avg. cost = 0.021\n",
      "Epoch: 8 of Total Epoch: 15 Avg. cost = 0.031\n",
      "Epoch: 8 of Total Epoch: 15 Avg. cost = 0.040\n",
      "Epoch: 8 of Total Epoch: 15 Avg. cost = 0.049\n",
      "Epoch: 9 of Total Epoch: 15 Avg. cost = 0.011\n",
      "Epoch: 9 of Total Epoch: 15 Avg. cost = 0.021\n",
      "Epoch: 9 of Total Epoch: 15 Avg. cost = 0.029\n",
      "Epoch: 9 of Total Epoch: 15 Avg. cost = 0.038\n",
      "Epoch: 9 of Total Epoch: 15 Avg. cost = 0.047\n",
      "Epoch: 10 of Total Epoch: 15 Avg. cost = 0.010\n",
      "Epoch: 10 of Total Epoch: 15 Avg. cost = 0.019\n",
      "Epoch: 10 of Total Epoch: 15 Avg. cost = 0.028\n",
      "Epoch: 10 of Total Epoch: 15 Avg. cost = 0.037\n",
      "Epoch: 10 of Total Epoch: 15 Avg. cost = 0.045\n",
      "Epoch: 11 of Total Epoch: 15 Avg. cost = 0.010\n",
      "Epoch: 11 of Total Epoch: 15 Avg. cost = 0.018\n",
      "Epoch: 11 of Total Epoch: 15 Avg. cost = 0.026\n",
      "Epoch: 11 of Total Epoch: 15 Avg. cost = 0.033\n",
      "Epoch: 11 of Total Epoch: 15 Avg. cost = 0.041\n",
      "Epoch: 12 of Total Epoch: 15 Avg. cost = 0.006\n",
      "Epoch: 12 of Total Epoch: 15 Avg. cost = 0.014\n",
      "Epoch: 12 of Total Epoch: 15 Avg. cost = 0.020\n",
      "Epoch: 12 of Total Epoch: 15 Avg. cost = 0.027\n",
      "Epoch: 12 of Total Epoch: 15 Avg. cost = 0.034\n",
      "Epoch: 13 of Total Epoch: 15 Avg. cost = 0.007\n",
      "Epoch: 13 of Total Epoch: 15 Avg. cost = 0.016\n",
      "Epoch: 13 of Total Epoch: 15 Avg. cost = 0.022\n",
      "Epoch: 13 of Total Epoch: 15 Avg. cost = 0.029\n",
      "Epoch: 13 of Total Epoch: 15 Avg. cost = 0.037\n",
      "Epoch: 14 of Total Epoch: 15 Avg. cost = 0.008\n",
      "Epoch: 14 of Total Epoch: 15 Avg. cost = 0.015\n",
      "Epoch: 14 of Total Epoch: 15 Avg. cost = 0.021\n",
      "Epoch: 14 of Total Epoch: 15 Avg. cost = 0.027\n",
      "Epoch: 14 of Total Epoch: 15 Avg. cost = 0.034\n",
      "Epoch: 15 of Total Epoch: 15 Avg. cost = 0.007\n",
      "Epoch: 15 of Total Epoch: 15 Avg. cost = 0.014\n",
      "Epoch: 15 of Total Epoch: 15 Avg. cost = 0.020\n",
      "Epoch: 15 of Total Epoch: 15 Avg. cost = 0.027\n",
      "Epoch: 15 of Total Epoch: 15 Avg. cost = 0.033\n",
      "Learning finished!\n"
     ]
    }
   ],
   "source": [
    "num_epochs = 15\n",
    "\n",
    "for epoch in range(num_epochs):\n",
    "    total_cost = 0\n",
    "    \n",
    "    for i in range(total_batch):\n",
    "        batch_xs, batch_ys = mnist.train.next_batch(batch_size)\n",
    "#         _, cost_val = sess.run([optimizer, cost], feed_dict={X: batch_xs, Y: batch_ys, keep_prob: 0.8})\n",
    "        _, cost_val = sess.run([optimizer, cost], feed_dict={X: batch_xs, Y: batch_ys, keep_prob: 0.8, is_training: True})\n",
    "            \n",
    "        total_cost += cost_val\n",
    "            \n",
    "        if (i + 1) % 100 == 0:\n",
    "            print(\"Epoch: %d of Total Epoch: %d\" % (epoch + 1, num_epochs), \"Avg. cost = %.3f\" % (total_cost / total_batch))\n",
    "print(\"Learning finished!\")"
   ]
  },
  {
   "cell_type": "code",
   "execution_count": 74,
   "metadata": {},
   "outputs": [],
   "source": [
    "is_correct = tf.equal(tf.argmax(model, 1), tf.argmax(Y, 1))"
   ]
  },
  {
   "cell_type": "code",
   "execution_count": 75,
   "metadata": {},
   "outputs": [],
   "source": [
    "accuracy = tf.reduce_mean(tf.cast(is_correct, tf.float32))"
   ]
  },
  {
   "cell_type": "code",
   "execution_count": 76,
   "metadata": {},
   "outputs": [
    {
     "name": "stdout",
     "output_type": "stream",
     "text": [
      "Accuracy: 70.48 %\n"
     ]
    }
   ],
   "source": [
    "# print(\"Accuracy: %.2f %%\" % (sess.run(accuracy * 100, feed_dict={X: mnist.test.images, Y: mnist.test.labels, keep_prob: 1})))\n",
    "print(\"Accuracy: %.2f %%\" % (sess.run(accuracy * 100, feed_dict={X: mnist.test.images, Y: mnist.test.labels, keep_prob: 1, is_training: False})))"
   ]
  },
  {
   "cell_type": "code",
   "execution_count": 81,
   "metadata": {},
   "outputs": [],
   "source": [
    "import matplotlib.pyplot as plt\n",
    "import numpy as np\n",
    "%matplotlib inline"
   ]
  },
  {
   "cell_type": "code",
   "execution_count": 82,
   "metadata": {},
   "outputs": [],
   "source": [
    "labels = sess.run(model, feed_dict={X: mnist.test.images, Y: mnist.test.labels, keep_prob: 1, is_training: False})"
   ]
  },
  {
   "cell_type": "code",
   "execution_count": 83,
   "metadata": {},
   "outputs": [
    {
     "data": {
      "image/png": "[encoded data removed]",
      "text/plain": [
       "<Figure size 432x288 with 10 Axes>"
      ]
     },
     "metadata": {},
     "output_type": "display_data"
    }
   ],
   "source": [
    "fig = plt.figure()\n",
    "\n",
    "for i in range(10):\n",
    "    subplot = fig.add_subplot(2, 5, i + 1)\n",
    "    subplot.set_xticks([])\n",
    "    subplot.set_yticks([])\n",
    "    \n",
    "    subplot.set_title(\"%d\" % np.argmax(labels[i]))\n",
    "    \n",
    "    subplot.imshow(mnist.test.images[i].reshape((28, 28)), cmap=plt.cm.gray_r)\n",
    "    \n",
    "plt.show()"
   ]
  },
  {
   "cell_type": "code",
   "execution_count": null,
   "metadata": {},
   "outputs": [],
   "source": []
  }
 ],
 "metadata": {
  "kernelspec": {
   "display_name": "Python 3",
   "language": "python",
   "name": "python3"
  },
  "language_info": {
   "codemirror_mode": {
    "name": "ipython",
    "version": 3
   },
   "file_extension": ".py",
   "mimetype": "text/x-python",
   "name": "python",
   "nbconvert_exporter": "python",
   "pygments_lexer": "ipython3",
   "version": "3.6.8"
  }
 },
 "nbformat": 4,
 "nbformat_minor": 2
}
