{
 "cells": [
  {
   "cell_type": "code",
   "execution_count": 1,
   "metadata": {},
   "outputs": [],
   "source": [
    "import tensorflow as tf\n",
    "import matplotlib.pyplot as plt\n",
    "%matplotlib inline\n",
    "import numpy as np"
   ]
  },
  {
   "cell_type": "code",
   "execution_count": 2,
   "metadata": {},
   "outputs": [
    {
     "name": "stdout",
     "output_type": "stream",
     "text": [
      "WARNING:tensorflow:From <ipython-input-2-f94eceb2dc2d>:2: read_data_sets (from tensorflow.contrib.learn.python.learn.datasets.mnist) is deprecated and will be removed in a future version.\n",
      "Instructions for updating:\n",
      "Please use alternatives such as official/mnist/dataset.py from tensorflow/models.\n",
      "WARNING:tensorflow:From /anaconda3/lib/python3.6/site-packages/tensorflow/contrib/learn/python/learn/datasets/mnist.py:260: maybe_download (from tensorflow.contrib.learn.python.learn.datasets.base) is deprecated and will be removed in a future version.\n",
      "Instructions for updating:\n",
      "Please write your own downloading logic.\n",
      "WARNING:tensorflow:From /anaconda3/lib/python3.6/site-packages/tensorflow/contrib/learn/python/learn/datasets/mnist.py:262: extract_images (from tensorflow.contrib.learn.python.learn.datasets.mnist) is deprecated and will be removed in a future version.\n",
      "Instructions for updating:\n",
      "Please use tf.data to implement this functionality.\n",
      "Extracting ./mnist/data/train-images-idx3-ubyte.gz\n",
      "WARNING:tensorflow:From /anaconda3/lib/python3.6/site-packages/tensorflow/contrib/learn/python/learn/datasets/mnist.py:267: extract_labels (from tensorflow.contrib.learn.python.learn.datasets.mnist) is deprecated and will be removed in a future version.\n",
      "Instructions for updating:\n",
      "Please use tf.data to implement this functionality.\n",
      "Extracting ./mnist/data/train-labels-idx1-ubyte.gz\n",
      "WARNING:tensorflow:From /anaconda3/lib/python3.6/site-packages/tensorflow/contrib/learn/python/learn/datasets/mnist.py:110: dense_to_one_hot (from tensorflow.contrib.learn.python.learn.datasets.mnist) is deprecated and will be removed in a future version.\n",
      "Instructions for updating:\n",
      "Please use tf.one_hot on tensors.\n",
      "Extracting ./mnist/data/t10k-images-idx3-ubyte.gz\n",
      "Extracting ./mnist/data/t10k-labels-idx1-ubyte.gz\n",
      "WARNING:tensorflow:From /anaconda3/lib/python3.6/site-packages/tensorflow/contrib/learn/python/learn/datasets/mnist.py:290: DataSet.__init__ (from tensorflow.contrib.learn.python.learn.datasets.mnist) is deprecated and will be removed in a future version.\n",
      "Instructions for updating:\n",
      "Please use alternatives such as official/mnist/dataset.py from tensorflow/models.\n"
     ]
    }
   ],
   "source": [
    "from tensorflow.examples.tutorials.mnist import input_data\n",
    "mnist = input_data.read_data_sets('./mnist/data/', one_hot=True)"
   ]
  },
  {
   "cell_type": "code",
   "execution_count": 3,
   "metadata": {},
   "outputs": [],
   "source": [
    "total_epoch = 100\n",
    "batch_size = 100\n",
    "learning_rate = 0.0002\n",
    "n_hidden = 256\n",
    "n_input = 28 * 28\n",
    "n_noise = 128"
   ]
  },
  {
   "cell_type": "code",
   "execution_count": 4,
   "metadata": {},
   "outputs": [],
   "source": [
    "X = tf.placeholder(tf.float32, [None, n_input])\n",
    "Z = tf.placeholder(tf.float32, [None, n_noise])"
   ]
  },
  {
   "cell_type": "code",
   "execution_count": 5,
   "metadata": {},
   "outputs": [],
   "source": [
    "G_W1 = tf.Variable(tf.random_normal([n_noise, n_hidden], stddev=0.01))\n",
    "G_b1 = tf.Variable(tf.zeros([n_hidden]))\n",
    "G_W2 = tf.Variable(tf.random_normal([n_hidden, n_input], stddev=0.01))\n",
    "G_b2 = tf.Variable(tf.zeros([n_input]))"
   ]
  },
  {
   "cell_type": "code",
   "execution_count": 8,
   "metadata": {},
   "outputs": [],
   "source": [
    "D_W1 = tf.Variable(tf.random_normal([n_input, n_hidden], stddev=0.01))\n",
    "D_b1 = tf.Variable(tf.zeros([n_hidden]))\n",
    "D_W2 = tf.Variable(tf.random_normal([n_hidden, 1], stddev=0.01))\n",
    "D_b2 = tf.Variable(tf.zeros([1]))"
   ]
  },
  {
   "cell_type": "code",
   "execution_count": 9,
   "metadata": {},
   "outputs": [],
   "source": [
    "def generator(noise_z):\n",
    "    hidden = tf.nn.relu(\n",
    "        tf.matmul(noise_z, G_W1 + G_b1)\n",
    "    )\n",
    "    output = tf.nn.sigmoid(\n",
    "        tf.matmul(hidden, G_W2 + G_b2)\n",
    "    )\n",
    "    return output"
   ]
  },
  {
   "cell_type": "code",
   "execution_count": 10,
   "metadata": {},
   "outputs": [],
   "source": [
    "def discriminator(inputs):\n",
    "    hidden = tf.nn.relu(\n",
    "        tf.matmul(inputs, D_W1) + D_b1\n",
    "    )\n",
    "    output = tf.nn.sigmoid(\n",
    "        tf.matmul(hidden, D_W2) + D_b2\n",
    "    )\n",
    "    \n",
    "    return output"
   ]
  },
  {
   "cell_type": "code",
   "execution_count": 11,
   "metadata": {},
   "outputs": [],
   "source": [
    "def get_noise(batch_size, n_noise):\n",
    "    return np.random.normal(size=(batch_size, n_noise))"
   ]
  },
  {
   "cell_type": "code",
   "execution_count": 12,
   "metadata": {},
   "outputs": [],
   "source": [
    "G = generator(Z)\n",
    "D_gene = discriminator(G)\n",
    "D_real = discriminator(X)"
   ]
  },
  {
   "cell_type": "code",
   "execution_count": 13,
   "metadata": {},
   "outputs": [],
   "source": [
    "loss_D = tf.reduce_mean(tf.log(D_real) + tf.log(1 - D_gene))"
   ]
  },
  {
   "cell_type": "code",
   "execution_count": 14,
   "metadata": {},
   "outputs": [],
   "source": [
    "loss_G = tf.reduce_mean(tf.log(D_gene))"
   ]
  },
  {
   "cell_type": "code",
   "execution_count": 15,
   "metadata": {},
   "outputs": [],
   "source": [
    "D_var_list = [D_W1, D_b1, D_W2, D_b2]\n",
    "G_var_list = [G_W1, G_b1, G_W2, G_b2]"
   ]
  },
  {
   "cell_type": "code",
   "execution_count": 16,
   "metadata": {},
   "outputs": [],
   "source": [
    "train_D = tf.train.AdamOptimizer(learning_rate).minimize(-loss_D, var_list=D_var_list)\n",
    "train_G = tf.train.AdamOptimizer(learning_rate).minimize(-loss_G, var_list=G_var_list)"
   ]
  },
  {
   "cell_type": "code",
   "execution_count": 30,
   "metadata": {},
   "outputs": [],
   "source": [
    "sess = tf.Session()\n",
    "sess.run(tf.global_variables_initializer())\n",
    "\n",
    "total_batch = int(mnist.train.num_examples / batch_size)\n",
    "loss_val_D, loss_val_G = 0, 0"
   ]
  },
  {
   "cell_type": "code",
   "execution_count": 31,
   "metadata": {},
   "outputs": [
    {
     "name": "stdout",
     "output_type": "stream",
     "text": [
      "Epoch:    1 D Loss: -1.4334 G Loss: -1.3852\n",
      "Epoch:    2 D Loss: -0.3816 G Loss: -2.1373\n",
      "Epoch:    3 D Loss: -0.6862 G Loss: -1.3352\n",
      "Epoch:    4 D Loss: -0.3589 G Loss: -1.7184\n",
      "Epoch:    5 D Loss: -0.4419 G Loss: -2.1491\n",
      "Epoch:    6 D Loss: -0.2950 G Loss: -2.5336\n",
      "Epoch:    7 D Loss: -0.1443 G Loss: -2.9088\n",
      "Epoch:    8 D Loss: -0.3079 G Loss: -2.5775\n",
      "Epoch:    9 D Loss: -0.2484 G Loss: -2.8398\n",
      "Epoch:   10 D Loss: -0.1399 G Loss: -2.9747\n",
      "Epoch:   11 D Loss: -0.2242 G Loss: -3.0732\n",
      "Epoch:   12 D Loss: -0.1868 G Loss: -3.0094\n",
      "Epoch:   13 D Loss: -0.3015 G Loss: -3.0375\n",
      "Epoch:   14 D Loss: -0.2287 G Loss: -3.2606\n",
      "Epoch:   15 D Loss: -0.4614 G Loss: -2.8101\n",
      "Epoch:   16 D Loss: -0.1432 G Loss: -3.6351\n",
      "Epoch:   17 D Loss: -0.2587 G Loss: -3.5115\n",
      "Epoch:   18 D Loss: -0.2002 G Loss: -3.3039\n",
      "Epoch:   19 D Loss: -0.1791 G Loss: -3.3841\n",
      "Epoch:   20 D Loss: -0.2663 G Loss: -3.0755\n",
      "Epoch:   21 D Loss: -0.4377 G Loss: -3.3125\n",
      "Epoch:   22 D Loss: -0.2159 G Loss: -3.7231\n",
      "Epoch:   23 D Loss: -0.3446 G Loss: -3.1056\n",
      "Epoch:   24 D Loss: -0.2570 G Loss: -2.9947\n",
      "Epoch:   25 D Loss: -0.3748 G Loss: -3.6481\n",
      "Epoch:   26 D Loss: -0.2615 G Loss: -3.4529\n",
      "Epoch:   27 D Loss: -0.4153 G Loss: -2.8941\n",
      "Epoch:   28 D Loss: -0.5286 G Loss: -3.0008\n",
      "Epoch:   29 D Loss: -0.3239 G Loss: -2.9747\n",
      "Epoch:   30 D Loss: -0.5868 G Loss: -2.8940\n",
      "Epoch:   31 D Loss: -0.3410 G Loss: -2.9292\n",
      "Epoch:   32 D Loss: -0.4727 G Loss: -2.9911\n",
      "Epoch:   33 D Loss: -0.5255 G Loss: -2.5780\n",
      "Epoch:   34 D Loss: -0.3648 G Loss: -3.5195\n",
      "Epoch:   35 D Loss: -0.4579 G Loss: -2.7776\n",
      "Epoch:   36 D Loss: -0.3961 G Loss: -2.7466\n",
      "Epoch:   37 D Loss: -0.4260 G Loss: -2.8000\n",
      "Epoch:   38 D Loss: -0.2488 G Loss: -3.6852\n",
      "Epoch:   39 D Loss: -0.2990 G Loss: -3.1724\n",
      "Epoch:   40 D Loss: -0.4655 G Loss: -2.4488\n",
      "Epoch:   41 D Loss: -0.3267 G Loss: -3.1232\n",
      "Epoch:   42 D Loss: -0.5691 G Loss: -2.6830\n",
      "Epoch:   43 D Loss: -0.4612 G Loss: -2.8505\n",
      "Epoch:   44 D Loss: -0.4139 G Loss: -2.6026\n",
      "Epoch:   45 D Loss: -0.3202 G Loss: -3.0469\n",
      "Epoch:   46 D Loss: -0.3669 G Loss: -2.8808\n",
      "Epoch:   47 D Loss: -0.3099 G Loss: -2.9726\n",
      "Epoch:   48 D Loss: -0.4928 G Loss: -2.6173\n",
      "Epoch:   49 D Loss: -0.5943 G Loss: -2.8266\n",
      "Epoch:   50 D Loss: -0.5584 G Loss: -2.8160\n",
      "Epoch:   51 D Loss: -0.3447 G Loss: -3.1196\n",
      "Epoch:   52 D Loss: -0.2793 G Loss: -3.2777\n",
      "Epoch:   53 D Loss: -0.2257 G Loss: -3.2595\n",
      "Epoch:   54 D Loss: -0.3042 G Loss: -3.2776\n",
      "Epoch:   55 D Loss: -0.5129 G Loss: -2.6855\n",
      "Epoch:   56 D Loss: -0.6876 G Loss: -2.4470\n",
      "Epoch:   57 D Loss: -0.7230 G Loss: -2.9896\n",
      "Epoch:   58 D Loss: -0.2881 G Loss: -3.2188\n",
      "Epoch:   59 D Loss: -0.2867 G Loss: -3.0836\n",
      "Epoch:   60 D Loss: -0.2810 G Loss: -2.8425\n",
      "Epoch:   61 D Loss: -0.3407 G Loss: -2.8411\n",
      "Epoch:   62 D Loss: -0.5425 G Loss: -2.6950\n",
      "Epoch:   63 D Loss: -0.3616 G Loss: -3.1055\n",
      "Epoch:   64 D Loss: -0.5510 G Loss: -2.7855\n",
      "Epoch:   65 D Loss: -0.4969 G Loss: -2.6658\n",
      "Epoch:   66 D Loss: -0.4507 G Loss: -2.3890\n",
      "Epoch:   67 D Loss: -0.4522 G Loss: -2.6060\n",
      "Epoch:   68 D Loss: -0.4686 G Loss: -2.9235\n",
      "Epoch:   69 D Loss: -0.4973 G Loss: -2.3589\n",
      "Epoch:   70 D Loss: -0.4145 G Loss: -2.9400\n",
      "Epoch:   71 D Loss: -0.4756 G Loss: -2.9892\n",
      "Epoch:   72 D Loss: -0.5255 G Loss: -2.8901\n",
      "Epoch:   73 D Loss: -0.6081 G Loss: -2.4794\n",
      "Epoch:   74 D Loss: -0.5909 G Loss: -2.5942\n",
      "Epoch:   75 D Loss: -0.6425 G Loss: -2.2441\n",
      "Epoch:   76 D Loss: -0.3593 G Loss: -2.8699\n",
      "Epoch:   77 D Loss: -0.5511 G Loss: -2.6432\n",
      "Epoch:   78 D Loss: -0.7432 G Loss: -2.3121\n",
      "Epoch:   79 D Loss: -0.4230 G Loss: -2.4620\n",
      "Epoch:   80 D Loss: -0.4546 G Loss: -2.6553\n",
      "Epoch:   81 D Loss: -0.5534 G Loss: -2.4396\n",
      "Epoch:   82 D Loss: -0.5168 G Loss: -2.6782\n",
      "Epoch:   83 D Loss: -0.7132 G Loss: -2.1611\n",
      "Epoch:   84 D Loss: -0.4682 G Loss: -2.5835\n",
      "Epoch:   85 D Loss: -0.4662 G Loss: -2.6737\n",
      "Epoch:   86 D Loss: -0.4587 G Loss: -2.3817\n",
      "Epoch:   87 D Loss: -0.5782 G Loss: -2.5613\n",
      "Epoch:   88 D Loss: -0.6097 G Loss: -2.5087\n",
      "Epoch:   89 D Loss: -0.5067 G Loss: -2.6915\n",
      "Epoch:   90 D Loss: -0.4887 G Loss: -2.7999\n",
      "Epoch:   91 D Loss: -0.4743 G Loss: -2.5362\n",
      "Epoch:   92 D Loss: -0.5068 G Loss: -2.5612\n",
      "Epoch:   93 D Loss: -0.4606 G Loss: -2.4600\n",
      "Epoch:   94 D Loss: -0.5588 G Loss: -2.5850\n",
      "Epoch:   95 D Loss: -0.4434 G Loss: -2.6563\n",
      "Epoch:   96 D Loss: -0.5178 G Loss: -2.6210\n",
      "Epoch:   97 D Loss: -0.5200 G Loss: -2.3849\n",
      "Epoch:   98 D Loss: -0.5075 G Loss: -2.3342\n",
      "Epoch:   99 D Loss: -0.5691 G Loss: -2.7505\n",
      "Epoch:  100 D Loss: -0.5426 G Loss: -2.6801\n",
      "Done Learning\n"
     ]
    }
   ],
   "source": [
    "for epoch in range(total_epoch):\n",
    "    for i in range(total_batch):\n",
    "        batch_xs, batch_ys = mnist.train.next_batch(batch_size)\n",
    "        noise = get_noise(batch_size, n_noise)\n",
    "        \n",
    "        _, loss_val_D = sess.run([train_D, loss_D], feed_dict={X: batch_xs, Z: noise})\n",
    "        _, loss_val_G = sess.run([train_G, loss_G], feed_dict={Z: noise})\n",
    "        \n",
    "    print('Epoch: %4d' % (epoch + 1), 'D Loss: %.4f' % loss_val_D, 'G Loss: %.4f' % loss_val_G)\n",
    "    \n",
    "    if epoch == 0 or (epoch + 1) % 10 ==0:\n",
    "        sample_size = 10\n",
    "        noise = get_noise(sample_size, n_noise)\n",
    "        samples = sess.run(G, feed_dict={Z: noise})\n",
    "        \n",
    "        fig, ax = plt.subplots(1, sample_size, figsize=(sample_size, 1))\n",
    "        \n",
    "        for i in range(sample_size):\n",
    "            ax[i].set_axis_off()\n",
    "            ax[i].imshow(np.reshape(samples[i], (28, 28)))\n",
    "            \n",
    "        plt.savefig('samples/{}.png'.format(str(epoch).zfill(3)), bbox_inches='tight')\n",
    "        plt.close(fig)\n",
    "print(\"Done Learning\")"
   ]
  },
  {
   "cell_type": "code",
   "execution_count": null,
   "metadata": {},
   "outputs": [],
   "source": []
  }
 ],
 "metadata": {
  "kernelspec": {
   "display_name": "Python 3",
   "language": "python",
   "name": "python3"
  },
  "language_info": {
   "codemirror_mode": {
    "name": "ipython",
    "version": 3
   },
   "file_extension": ".py",
   "mimetype": "text/x-python",
   "name": "python",
   "nbconvert_exporter": "python",
   "pygments_lexer": "ipython3",
   "version": "3.6.8"
  }
 },
 "nbformat": 4,
 "nbformat_minor": 2
}
