{
 "cells": [
  {
   "cell_type": "markdown",
   "metadata": {},
   "source": [
    "# MNIST"
   ]
  },
  {
   "cell_type": "code",
   "execution_count": null,
   "metadata": {},
   "outputs": [],
   "source": [
    "import tensorflow as tf\n",
    "\n",
    "from tensorflow.examples.tutorials.mnist import input_data\n",
    "mnist = input_data.read_data_sets(\"./mnist/data/\", one_hot=True)\n",
    "\n",
    "learning_rate = 0.001\n",
    "total_epoch = 30\n",
    "batch_size = 128\n",
    "\n",
    "n_input = 28\n",
    "n_step = 28\n",
    "n_hidden = 128\n",
    "n_class = 10"
   ]
  },
  {
   "cell_type": "code",
   "execution_count": 2,
   "metadata": {},
   "outputs": [],
   "source": [
    "X = tf.placeholder(tf.float32, [None, n_step, n_input])\n",
    "Y = tf.placeholder(tf.float32, [None, n_class])\n",
    "\n",
    "W = tf.Variable(tf.random_normal([n_hidden, n_class]))\n",
    "b = tf.Variable(tf.random_normal([n_class]))\n",
    "\n",
    "cell = tf.nn.rnn_cell.BasicRNNCell(n_hidden)\n",
    "outputs, states = tf.nn.dynamic_rnn(cell, X, dtype=tf.float32)\n",
    "\n",
    "outputs = tf.transpose(outputs, [1, 0, 2])\n",
    "outputs = outputs[-1]"
   ]
  },
  {
   "cell_type": "code",
   "execution_count": 3,
   "metadata": {},
   "outputs": [
    {
     "name": "stdout",
     "output_type": "stream",
     "text": [
      "Epoch:    1 Avg. cost = 0.529\n",
      "Epoch:    2 Avg. cost = 0.251\n",
      "Epoch:    3 Avg. cost = 0.188\n",
      "Epoch:    4 Avg. cost = 0.163\n",
      "Epoch:    5 Avg. cost = 0.145\n",
      "Epoch:    6 Avg. cost = 0.135\n",
      "Epoch:    7 Avg. cost = 0.127\n",
      "Epoch:    8 Avg. cost = 0.111\n",
      "Epoch:    9 Avg. cost = 0.114\n",
      "Epoch:   10 Avg. cost = 0.106\n",
      "Epoch:   11 Avg. cost = 0.100\n",
      "Epoch:   12 Avg. cost = 0.101\n",
      "Epoch:   13 Avg. cost = 0.099\n",
      "Epoch:   14 Avg. cost = 0.086\n",
      "Epoch:   15 Avg. cost = 0.088\n",
      "Epoch:   16 Avg. cost = 0.090\n",
      "Epoch:   17 Avg. cost = 0.085\n",
      "Epoch:   18 Avg. cost = 0.079\n",
      "Epoch:   19 Avg. cost = 0.078\n",
      "Epoch:   20 Avg. cost = 0.080\n",
      "Epoch:   21 Avg. cost = 0.077\n",
      "Epoch:   22 Avg. cost = 0.071\n",
      "Epoch:   23 Avg. cost = 0.073\n",
      "Epoch:   24 Avg. cost = 0.067\n",
      "Epoch:   25 Avg. cost = 0.065\n",
      "Epoch:   26 Avg. cost = 0.071\n",
      "Epoch:   27 Avg. cost = 0.069\n",
      "Epoch:   28 Avg. cost = 0.058\n",
      "Epoch:   29 Avg. cost = 0.069\n",
      "Epoch:   30 Avg. cost = 0.068\n",
      "최적화 완료\n"
     ]
    }
   ],
   "source": [
    "model = tf.matmul(outputs, W) + b\n",
    "\n",
    "cost = tf.reduce_mean(tf.nn.softmax_cross_entropy_with_logits_v2(logits=model, labels=Y))\n",
    "optimizer = tf.train.AdamOptimizer(learning_rate).minimize(cost)\n",
    "\n",
    "sess = tf.Session()\n",
    "sess.run(tf.global_variables_initializer())\n",
    "\n",
    "total_batch = int(mnist.train.num_examples / batch_size)\n",
    "\n",
    "for epoch in range(total_epoch):\n",
    "    total_cost = 0\n",
    "    \n",
    "    for i in range(total_batch):\n",
    "        batch_xs, batch_ys = mnist.train.next_batch(batch_size)\n",
    "        batch_xs = batch_xs.reshape((batch_size, n_step, n_input))\n",
    "        \n",
    "        _, cost_val = sess.run([optimizer, cost], feed_dict={X: batch_xs, Y: batch_ys})\n",
    "        \n",
    "        total_cost += cost_val\n",
    "        \n",
    "    print(\"Epoch: %4d\" % (epoch + 1), \"Avg. cost = %.3f\" % (total_cost / total_batch))\n",
    "    \n",
    "print(\"최적화 완료\")\n"
   ]
  },
  {
   "cell_type": "code",
   "execution_count": 9,
   "metadata": {},
   "outputs": [
    {
     "name": "stdout",
     "output_type": "stream",
     "text": [
      "Accuracy: 97.37 %\n"
     ]
    }
   ],
   "source": [
    "is_correct = tf.equal(tf.argmax(model, 1), tf.argmax(Y, 1))\n",
    "accuracy = tf.reduce_mean(tf.cast(is_correct, tf.float32))\n",
    "\n",
    "test_batch_size = len(mnist.test.images)\n",
    "test_xs = mnist.test.images.reshape(test_batch_size, n_step, n_input)\n",
    "test_ys = mnist.test.labels\n",
    "\n",
    "print(\"Accuracy: %.2f %%\" % (sess.run(accuracy, feed_dict={X: test_xs, Y: test_ys}) * 100))"
   ]
  },
  {
   "cell_type": "markdown",
   "metadata": {},
   "source": [
    "# Words Autocomplete"
   ]
  },
  {
   "cell_type": "code",
   "execution_count": 10,
   "metadata": {},
   "outputs": [],
   "source": [
    "import tensorflow as tf\n",
    "import numpy as np\n",
    "\n",
    "char_arr = ['a', 'b', 'c', 'd', 'e', 'f', 'g',\n",
    "            'h', 'i', 'j', 'k', 'l', 'm', 'n',\n",
    "            'o', 'p', 'q', 'r', 's', 't', 'u',\n",
    "            'v', 'w', 'x', 'y', 'z'\n",
    "           ]\n",
    "\n",
    "num_dic = {n: i for i, n in enumerate(char_arr)}\n",
    "dic_len = len(num_dic)"
   ]
  },
  {
   "cell_type": "code",
   "execution_count": 11,
   "metadata": {},
   "outputs": [],
   "source": [
    "seq_data = ['word', 'wood', 'deep', 'dive', 'cold', 'cool', 'load', 'love', 'kiss', 'kind']"
   ]
  },
  {
   "cell_type": "code",
   "execution_count": 12,
   "metadata": {},
   "outputs": [],
   "source": [
    "def make_batch(seq_data):\n",
    "    input_batch = []\n",
    "    target_batch = []\n",
    "    \n",
    "    for seq in seq_data:\n",
    "        input = [num_dic[n] for n in seq[:-1]]\n",
    "        target = num_dic[seq[-1]]\n",
    "        input_batch.append(np.eye(dic_len)[input])\n",
    "        target_batch.append(target)\n",
    "        \n",
    "    return input_batch, target_batch"
   ]
  },
  {
   "cell_type": "code",
   "execution_count": 13,
   "metadata": {},
   "outputs": [],
   "source": [
    "learning_rate = 0.01\n",
    "n_hidden = 128\n",
    "total_epoch = 30\n",
    "\n",
    "n_step = 3\n",
    "n_input = n_class = dic_len"
   ]
  },
  {
   "cell_type": "code",
   "execution_count": 14,
   "metadata": {},
   "outputs": [],
   "source": [
    "X = tf.placeholder(tf.float32, [None, n_step, n_input])\n",
    "Y = tf.placeholder(tf.int32, [None])\n",
    "\n",
    "W = tf.Variable(tf.random_normal([n_hidden, n_class]))\n",
    "b = tf.Variable(tf.random_normal([n_class]))"
   ]
  },
  {
   "cell_type": "code",
   "execution_count": 15,
   "metadata": {},
   "outputs": [],
   "source": [
    "cell1 = tf.nn.rnn_cell.BasicLSTMCell(n_hidden)\n",
    "cell1 = tf.nn.rnn_cell.DropoutWrapper(cell1, output_keep_prob=0.5)\n",
    "cell2 = tf.nn.rnn_cell.BasicLSTMCell(n_hidden)"
   ]
  },
  {
   "cell_type": "code",
   "execution_count": 16,
   "metadata": {},
   "outputs": [],
   "source": [
    "multi_cell = tf.nn.rnn_cell.MultiRNNCell([cell1, cell2])\n",
    "outputs, states = tf.nn.dynamic_rnn(multi_cell, X, dtype=tf.float32)"
   ]
  },
  {
   "cell_type": "code",
   "execution_count": 17,
   "metadata": {},
   "outputs": [],
   "source": [
    "outputs = tf.transpose(outputs, [1, 0, 2])\n",
    "outputs = outputs[-1]\n",
    "model = tf.matmul(outputs, W) + b"
   ]
  },
  {
   "cell_type": "code",
   "execution_count": 18,
   "metadata": {},
   "outputs": [],
   "source": [
    "cost = tf.reduce_mean(tf.nn.sparse_softmax_cross_entropy_with_logits(logits=model, labels=Y))\n",
    "optimizer = tf.train.AdamOptimizer(learning_rate).minimize(cost)"
   ]
  },
  {
   "cell_type": "code",
   "execution_count": 19,
   "metadata": {},
   "outputs": [
    {
     "name": "stdout",
     "output_type": "stream",
     "text": [
      "Epoch:    1 cost = 3.760857\n",
      "Epoch:    2 cost = 2.739840\n",
      "Epoch:    3 cost = 1.514921\n",
      "Epoch:    4 cost = 1.463547\n",
      "Epoch:    5 cost = 0.594926\n",
      "Epoch:    6 cost = 0.777386\n",
      "Epoch:    7 cost = 0.790467\n",
      "Epoch:    8 cost = 0.345743\n",
      "Epoch:    9 cost = 0.371831\n",
      "Epoch:   10 cost = 0.507802\n",
      "Epoch:   11 cost = 0.522738\n",
      "Epoch:   12 cost = 0.218026\n",
      "Epoch:   13 cost = 0.104350\n",
      "Epoch:   14 cost = 0.350796\n",
      "Epoch:   15 cost = 0.200506\n",
      "Epoch:   16 cost = 0.143947\n",
      "Epoch:   17 cost = 0.170124\n",
      "Epoch:   18 cost = 0.094745\n",
      "Epoch:   19 cost = 0.042214\n",
      "Epoch:   20 cost = 0.091873\n",
      "Epoch:   21 cost = 0.277573\n",
      "Epoch:   22 cost = 0.104450\n",
      "Epoch:   23 cost = 0.066456\n",
      "Epoch:   24 cost = 0.215978\n",
      "Epoch:   25 cost = 0.090891\n",
      "Epoch:   26 cost = 0.050989\n",
      "Epoch:   27 cost = 0.027278\n",
      "Epoch:   28 cost = 0.026475\n",
      "Epoch:   29 cost = 0.007992\n",
      "Epoch:   30 cost = 0.010122\n",
      "최적화 완료\n"
     ]
    }
   ],
   "source": [
    "sess = tf.Session()\n",
    "sess.run(tf.global_variables_initializer())\n",
    "\n",
    "input_batch, target_batch = make_batch(seq_data)\n",
    "\n",
    "for epoch in range(total_epoch):\n",
    "    _, loss = sess.run([optimizer, cost], feed_dict={X: input_batch, Y: target_batch})\n",
    "    \n",
    "    print(\"Epoch: %4d\" % (epoch + 1), \"cost = %.6f\" % loss)\n",
    "    \n",
    "print(\"최적화 완료\")"
   ]
  },
  {
   "cell_type": "code",
   "execution_count": 20,
   "metadata": {},
   "outputs": [],
   "source": [
    "prediction = tf.cast(tf.argmax(model, 1), tf.int32)\n",
    "prediction_check = tf.equal(prediction, Y)\n",
    "accuracy = tf.reduce_mean(tf.cast(prediction_check, tf.float32))"
   ]
  },
  {
   "cell_type": "code",
   "execution_count": 21,
   "metadata": {},
   "outputs": [
    {
     "name": "stdout",
     "output_type": "stream",
     "text": [
      "\n",
      "=== 예측결과 ===\n",
      "입력값:  ['wor ', 'woo ', 'dee ', 'div ', 'col ', 'coo ', 'loa ', 'lov ', 'kis ', 'kin ']\n",
      "예측값:  ['word', 'wood', 'deep', 'dive', 'cold', 'cool', 'load', 'love', 'kiss', 'kind']\n",
      "정확도:  1.0\n"
     ]
    }
   ],
   "source": [
    "input_batch, target_batch = make_batch(seq_data)\n",
    "predict, accuracy_val = sess.run([prediction, accuracy], feed_dict={X: input_batch, Y: target_batch})\n",
    "\n",
    "predict_words = []\n",
    "for idx, val in enumerate(seq_data):\n",
    "    last_char = char_arr[predict[idx]]\n",
    "    predict_words.append(val[:3] + last_char)\n",
    "    \n",
    "print(\"\\n=== 예측결과 ===\")\n",
    "print(\"입력값: \", [w[:3] + ' ' for w in seq_data])\n",
    "print(\"예측값: \", predict_words)\n",
    "print(\"정확도: \", accuracy_val)"
   ]
  },
  {
   "cell_type": "markdown",
   "metadata": {},
   "source": [
    "# Sequence To Sequence"
   ]
  },
  {
   "cell_type": "code",
   "execution_count": 1,
   "metadata": {},
   "outputs": [],
   "source": [
    "import tensorflow as tf\n",
    "import numpy as np\n",
    "\n",
    "char_arr = [c for c in 'SEPabcdefghijklmnopqrstuvwxyz단어나무놀이소녀키스사랑']\n",
    "num_dic = {n: i for i, n in enumerate(char_arr)}\n",
    "dic_len = len(num_dic)\n",
    "\n",
    "seq_data = [['word', '단어'], ['wood', '나무'],\n",
    "            ['game', '놀이'], ['girl', '소녀'],\n",
    "            ['kiss', '키스'], ['love', '사랑']]"
   ]
  },
  {
   "cell_type": "code",
   "execution_count": 2,
   "metadata": {},
   "outputs": [],
   "source": [
    "def make_batch(seq_data):\n",
    "    input_batch = []\n",
    "    output_batch = []\n",
    "    target_batch = []\n",
    "    \n",
    "    for seq in seq_data:\n",
    "        input = [num_dic[n] for n in seq[0]]\n",
    "        output = [num_dic[n] for n in ('S' + seq[1])]\n",
    "        target = [num_dic[n] for n in (seq[1] + 'E')]\n",
    "        \n",
    "        input_batch.append(np.eye(dic_len)[input])\n",
    "        output_batch.append(np.eye(dic_len)[output])\n",
    "        target_batch.append(target)\n",
    "        \n",
    "    return input_batch, output_batch, target_batch"
   ]
  },
  {
   "cell_type": "code",
   "execution_count": 3,
   "metadata": {},
   "outputs": [],
   "source": [
    "learning_rate = 0.01\n",
    "n_hidden = 128\n",
    "total_epoch = 100\n",
    "\n",
    "n_class = n_input = dic_len"
   ]
  },
  {
   "cell_type": "code",
   "execution_count": 4,
   "metadata": {},
   "outputs": [],
   "source": [
    "enc_input = tf.placeholder(tf.float32, [None, None, n_input])\n",
    "dec_input = tf.placeholder(tf.float32, [None, None, n_input])\n",
    "targets = tf.placeholder(tf.int64, [None, None])"
   ]
  },
  {
   "cell_type": "code",
   "execution_count": 5,
   "metadata": {},
   "outputs": [],
   "source": [
    "with tf.variable_scope('encode'):\n",
    "    enc_cell = tf.nn.rnn_cell.BasicRNNCell(n_hidden)\n",
    "    enc_cell = tf.nn.rnn_cell.DropoutWrapper(enc_cell, output_keep_prob=0.5)\n",
    "    \n",
    "    outputs, enc_states = tf.nn.dynamic_rnn(enc_cell, enc_input, dtype=tf.float32)\n",
    "    \n",
    "with tf.variable_scope('decode'):\n",
    "    dec_cell = tf.nn.rnn_cell.BasicRNNCell(n_hidden)\n",
    "    dec_cell = tf.nn.rnn_cell.DropoutWrapper(dec_cell, output_keep_prob=0.5)\n",
    "    \n",
    "    outputs, dec_states = tf.nn.dynamic_rnn(dec_cell, dec_input, initial_state=enc_states, dtype=tf.float32)"
   ]
  },
  {
   "cell_type": "code",
   "execution_count": 6,
   "metadata": {},
   "outputs": [],
   "source": [
    "model = tf.layers.dense(outputs, n_class, activation=None)\n",
    "cost = tf.reduce_mean(tf.nn.sparse_softmax_cross_entropy_with_logits(logits=model, labels=targets))\n",
    "optimizer = tf.train.AdamOptimizer(learning_rate).minimize(cost)"
   ]
  },
  {
   "cell_type": "code",
   "execution_count": 8,
   "metadata": {},
   "outputs": [
    {
     "name": "stdout",
     "output_type": "stream",
     "text": [
      "epoch:    1 cost = 3.775697\n",
      "epoch:    2 cost = 2.722006\n",
      "epoch:    3 cost = 1.596629\n",
      "epoch:    4 cost = 1.170150\n",
      "epoch:    5 cost = 0.677674\n",
      "epoch:    6 cost = 0.497581\n",
      "epoch:    7 cost = 0.321225\n",
      "epoch:    8 cost = 0.314010\n",
      "epoch:    9 cost = 0.200762\n",
      "epoch:   10 cost = 0.128844\n",
      "epoch:   11 cost = 0.070629\n",
      "epoch:   12 cost = 0.120686\n",
      "epoch:   13 cost = 0.068410\n",
      "epoch:   14 cost = 0.182565\n",
      "epoch:   15 cost = 0.071669\n",
      "epoch:   16 cost = 0.029648\n",
      "epoch:   17 cost = 0.011083\n",
      "epoch:   18 cost = 0.013072\n",
      "epoch:   19 cost = 0.010102\n",
      "epoch:   20 cost = 0.009225\n",
      "epoch:   21 cost = 0.007622\n",
      "epoch:   22 cost = 0.003826\n",
      "epoch:   23 cost = 0.004272\n",
      "epoch:   24 cost = 0.004784\n",
      "epoch:   25 cost = 0.002424\n",
      "epoch:   26 cost = 0.005006\n",
      "epoch:   27 cost = 0.003772\n",
      "epoch:   28 cost = 0.002680\n",
      "epoch:   29 cost = 0.000566\n",
      "epoch:   30 cost = 0.000897\n",
      "epoch:   31 cost = 0.001335\n",
      "epoch:   32 cost = 0.004759\n",
      "epoch:   33 cost = 0.004923\n",
      "epoch:   34 cost = 0.002270\n",
      "epoch:   35 cost = 0.001207\n",
      "epoch:   36 cost = 0.000607\n",
      "epoch:   37 cost = 0.001419\n",
      "epoch:   38 cost = 0.000754\n",
      "epoch:   39 cost = 0.000341\n",
      "epoch:   40 cost = 0.001194\n",
      "epoch:   41 cost = 0.001171\n",
      "epoch:   42 cost = 0.000785\n",
      "epoch:   43 cost = 0.000762\n",
      "epoch:   44 cost = 0.000609\n",
      "epoch:   45 cost = 0.000868\n",
      "epoch:   46 cost = 0.000724\n",
      "epoch:   47 cost = 0.000596\n",
      "epoch:   48 cost = 0.000363\n",
      "epoch:   49 cost = 0.000935\n",
      "epoch:   50 cost = 0.000494\n",
      "epoch:   51 cost = 0.001589\n",
      "epoch:   52 cost = 0.002726\n",
      "epoch:   53 cost = 0.000275\n",
      "epoch:   54 cost = 0.000447\n",
      "epoch:   55 cost = 0.000528\n",
      "epoch:   56 cost = 0.000527\n",
      "epoch:   57 cost = 0.001752\n",
      "epoch:   58 cost = 0.000265\n",
      "epoch:   59 cost = 0.000337\n",
      "epoch:   60 cost = 0.001118\n",
      "epoch:   61 cost = 0.000869\n",
      "epoch:   62 cost = 0.000402\n",
      "epoch:   63 cost = 0.000169\n",
      "epoch:   64 cost = 0.000370\n",
      "epoch:   65 cost = 0.000919\n",
      "epoch:   66 cost = 0.000259\n",
      "epoch:   67 cost = 0.000385\n",
      "epoch:   68 cost = 0.000325\n",
      "epoch:   69 cost = 0.000215\n",
      "epoch:   70 cost = 0.000865\n",
      "epoch:   71 cost = 0.000311\n",
      "epoch:   72 cost = 0.000921\n",
      "epoch:   73 cost = 0.000261\n",
      "epoch:   74 cost = 0.000526\n",
      "epoch:   75 cost = 0.000400\n",
      "epoch:   76 cost = 0.000288\n",
      "epoch:   77 cost = 0.003095\n",
      "epoch:   78 cost = 0.001189\n",
      "epoch:   79 cost = 0.000612\n",
      "epoch:   80 cost = 0.000742\n",
      "epoch:   81 cost = 0.001330\n",
      "epoch:   82 cost = 0.000138\n",
      "epoch:   83 cost = 0.000247\n",
      "epoch:   84 cost = 0.000190\n",
      "epoch:   85 cost = 0.000271\n",
      "epoch:   86 cost = 0.000253\n",
      "epoch:   87 cost = 0.000436\n",
      "epoch:   88 cost = 0.000327\n",
      "epoch:   89 cost = 0.000347\n",
      "epoch:   90 cost = 0.000221\n",
      "epoch:   91 cost = 0.000107\n",
      "epoch:   92 cost = 0.000314\n",
      "epoch:   93 cost = 0.000537\n",
      "epoch:   94 cost = 0.000221\n",
      "epoch:   95 cost = 0.000489\n",
      "epoch:   96 cost = 0.000155\n",
      "epoch:   97 cost = 0.000288\n",
      "epoch:   98 cost = 0.000208\n",
      "epoch:   99 cost = 0.000330\n",
      "epoch:  100 cost = 0.000565\n",
      "최적화 완료!\n"
     ]
    }
   ],
   "source": [
    "sess = tf.Session()\n",
    "sess.run(tf.global_variables_initializer())\n",
    "\n",
    "input_batch, output_batch, target_batch = make_batch(seq_data)\n",
    "\n",
    "for epoch in range(total_epoch):\n",
    "    _, loss = sess.run([optimizer, cost], \n",
    "                       feed_dict={\n",
    "                           enc_input: input_batch, \n",
    "                           dec_input: output_batch, \n",
    "                           targets: target_batch\n",
    "                       })\n",
    "    print(\"epoch: %4d\" % (epoch + 1), 'cost = %.6f' % loss)\n",
    "    \n",
    "print(\"최적화 완료!\")"
   ]
  },
  {
   "cell_type": "code",
   "execution_count": 9,
   "metadata": {},
   "outputs": [],
   "source": [
    "def translate(word):\n",
    "    seq_data = [word, 'P' * len(word)]\n",
    "    input_batch, output_batch, target_batch = make_batch([seq_data])\n",
    "    \n",
    "    prediction = tf.argmax(model, 2)\n",
    "    result = sess.run(prediction, feed_dict={enc_input: input_batch,\n",
    "                                            dec_input: output_batch,\n",
    "                                            targets: target_batch})\n",
    "    decoded = [char_arr[i] for i in result[0]]\n",
    "    end = decoded.index('E')\n",
    "    translated = ''.join(decoded[:end])\n",
    "    \n",
    "    return translated"
   ]
  },
  {
   "cell_type": "code",
   "execution_count": 10,
   "metadata": {},
   "outputs": [
    {
     "name": "stdout",
     "output_type": "stream",
     "text": [
      "\n",
      " === Translation Test ===\n",
      "word -> 단어\n",
      "wodr -> 나무\n",
      "love -> 사랑\n",
      "loev -> 사랑\n",
      "abcd -> 사스\n"
     ]
    }
   ],
   "source": [
    "print(\"\\n === Translation Test ===\")\n",
    "print('word ->', translate('word'))\n",
    "print('wodr ->', translate('wodr'))\n",
    "print('love ->', translate('love'))\n",
    "print('loev ->', translate('loev'))\n",
    "print('abcd ->', translate('abcd'))"
   ]
  },
  {
   "cell_type": "code",
   "execution_count": null,
   "metadata": {},
   "outputs": [],
   "source": []
  }
 ],
 "metadata": {
  "kernelspec": {
   "display_name": "Python 3",
   "language": "python",
   "name": "python3"
  },
  "language_info": {
   "codemirror_mode": {
    "name": "ipython",
    "version": 3
   },
   "file_extension": ".py",
   "mimetype": "text/x-python",
   "name": "python",
   "nbconvert_exporter": "python",
   "pygments_lexer": "ipython3",
   "version": "3.6.8"
  }
 },
 "nbformat": 4,
 "nbformat_minor": 2
}
